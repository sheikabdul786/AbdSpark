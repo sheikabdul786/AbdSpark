{
 "cells": [
  {
   "cell_type": "code",
   "execution_count": 1,
   "metadata": {},
   "outputs": [
    {
     "name": "stdout",
     "output_type": "stream",
     "text": [
      "Please pick one:\n",
      "            rock\n",
      "            scissors\n",
      "            paper\n"
     ]
    }
   ],
   "source": [
    "print('''Please pick one:\n",
    "            rock\n",
    "            scissors\n",
    "            paper''')"
   ]
  },
  {
   "cell_type": "code",
   "execution_count": null,
   "metadata": {},
   "outputs": [],
   "source": [
    "\n",
    "    \n",
    "    \n",
    "    \n",
    "       \n",
    "        \n",
    "    \n",
    "        \n",
    "    \n",
    "\n"
   ]
  },
  {
   "cell_type": "code",
   "execution_count": null,
   "metadata": {},
   "outputs": [],
   "source": [
    "  \n",
    "    a = game_dict.get(player_a)"
   ]
  },
  {
   "cell_type": "markdown",
   "metadata": {},
   "source": [
    "# Actual Game Starts Here Rock Scissors Papers"
   ]
  },
  {
   "cell_type": "code",
   "execution_count": null,
   "metadata": {},
   "outputs": [
    {
     "name": "stdin",
     "output_type": "stream",
     "text": [
      "Player a:  rock\n",
      "Player b:  scissors\n"
     ]
    },
    {
     "name": "stdout",
     "output_type": "stream",
     "text": [
      "-1\n",
      "player a wins.\n"
     ]
    },
    {
     "name": "stdin",
     "output_type": "stream",
     "text": [
      "Do you want to play another game, yes or no?\n",
      " yes\n",
      "Player a:  paper\n",
      "Player b:  scissors\n"
     ]
    },
    {
     "name": "stdout",
     "output_type": "stream",
     "text": [
      "1\n",
      "player b wins.\n"
     ]
    },
    {
     "name": "stdin",
     "output_type": "stream",
     "text": [
      "Do you want to play another game, yes or no?\n",
      " yes\n",
      "Player a:  rock\n",
      "Player b:  paper\n"
     ]
    },
    {
     "name": "stdout",
     "output_type": "stream",
     "text": [
      "-2\n",
      "player b wins.\n"
     ]
    },
    {
     "name": "stdin",
     "output_type": "stream",
     "text": [
      "Do you want to play another game, yes or no?\n",
      " yes\n",
      "Player a:  paper\n",
      "Player b:  rock\n"
     ]
    },
    {
     "name": "stdout",
     "output_type": "stream",
     "text": [
      "2\n",
      "player a wins.\n"
     ]
    }
   ],
   "source": [
    "while True:\n",
    "    \n",
    "    game_dict = {'rock': 1, 'scissors': 2, 'paper': 3}\n",
    "    player_a = str(input(\"Player a: \"))\n",
    "    player_b = str(input(\"Player b: \"))\n",
    "    a = game_dict.get(player_a)\n",
    "    b = game_dict.get(player_b)\n",
    "    dif = a - b\n",
    "    print(dif)  \n",
    "    if dif in [-1, 2]:\n",
    "        print('player a wins.')\n",
    "        if str(input('Do you want to play another game, yes or no?\\n')) == 'yes':\n",
    "            continue\n",
    "        else:\n",
    "            print('game over.')\n",
    "            break\n",
    "    elif dif in [-2, 1]:\n",
    "        print('player b wins.')\n",
    "        if str(input('Do you want to play another game, yes or no?\\n')) == 'yes':\n",
    "            continue\n",
    "        else:\n",
    "            print('game over.')\n",
    "            break\n",
    "    else:\n",
    "        print('Draw.Please continue.')\n",
    "        print('')"
   ]
  },
  {
   "cell_type": "code",
   "execution_count": 9,
   "metadata": {},
   "outputs": [],
   "source": [
    "game_dict = {'rock': 1, 'scissors': 2, 'paper': 3}\n",
    "player_a = 'rock'\n",
    "player_b = 'scissors'\n",
    "a = game_dict.get(player_a)\n",
    "b = game_dict.get(player_b)\n",
    "dif = a - b"
   ]
  },
  {
   "cell_type": "code",
   "execution_count": 10,
   "metadata": {},
   "outputs": [
    {
     "data": {
      "text/plain": [
       "-1"
      ]
     },
     "execution_count": 10,
     "metadata": {},
     "output_type": "execute_result"
    }
   ],
   "source": [
    "dif"
   ]
  },
  {
   "cell_type": "code",
   "execution_count": 6,
   "metadata": {},
   "outputs": [
    {
     "name": "stdout",
     "output_type": "stream",
     "text": [
      "player a wins.\n"
     ]
    }
   ],
   "source": [
    "if dif in [-1,2]:\n",
    "    print('player a wins.')"
   ]
  },
  {
   "cell_type": "code",
   "execution_count": 5,
   "metadata": {},
   "outputs": [
    {
     "data": {
      "text/plain": [
       "-1"
      ]
     },
     "execution_count": 5,
     "metadata": {},
     "output_type": "execute_result"
    }
   ],
   "source": [
    "dif"
   ]
  },
  {
   "cell_type": "code",
   "execution_count": null,
   "metadata": {},
   "outputs": [],
   "source": [
    "if dif in [-1, 2]:\n",
    "    print('player a wins.')\n",
    "    if str(input('Do you want to play another game, yes or no?\\n')) == 'yes':\n",
    "        continue\n",
    "    else:\n",
    "        print('game over.')\n",
    "        break\n",
    "elif dif in [-2, 1]:\n",
    "    print('player b wins.')\n",
    "    if str(input('Do you want to play another game, yes or no?\\n')) == 'yes':\n",
    "        continue\n",
    "    else:\n",
    "        print('game over.')\n",
    "        break\n",
    "else:\n",
    "    print('Draw.Please continue.')\n",
    "    print('')"
   ]
  },
  {
   "cell_type": "code",
   "execution_count": null,
   "metadata": {},
   "outputs": [],
   "source": []
  },
  {
   "cell_type": "code",
   "execution_count": 17,
   "metadata": {},
   "outputs": [
    {
     "name": "stdout",
     "output_type": "stream",
     "text": [
      "Let's play a game of Cowbull!\n",
      "I will generate a number, and you have to guess the numbers one digit at a time.\n",
      "For every number in the wrong place, you get a cow. For every one in the right place, you get a bull.\n",
      "The game ends when you get 4 bulls!\n",
      "Type exit at any prompt to exit.\n"
     ]
    },
    {
     "name": "stdin",
     "output_type": "stream",
     "text": [
      "Give me your best guess! 8624\n"
     ]
    },
    {
     "name": "stdout",
     "output_type": "stream",
     "text": [
      "You have 4 cows, and 0 bulls.\n",
      "Your guess isn't quite right, try again.\n"
     ]
    },
    {
     "name": "stdin",
     "output_type": "stream",
     "text": [
      "Give me your best guess! 1234\n"
     ]
    },
    {
     "name": "stdout",
     "output_type": "stream",
     "text": [
      "You have 4 cows, and 0 bulls.\n",
      "Your guess isn't quite right, try again.\n"
     ]
    },
    {
     "name": "stdin",
     "output_type": "stream",
     "text": [
      "Give me your best guess! 9876\n"
     ]
    },
    {
     "name": "stdout",
     "output_type": "stream",
     "text": [
      "You have 4 cows, and 0 bulls.\n",
      "Your guess isn't quite right, try again.\n"
     ]
    },
    {
     "name": "stdin",
     "output_type": "stream",
     "text": [
      "Give me your best guess! 5879\n"
     ]
    },
    {
     "name": "stdout",
     "output_type": "stream",
     "text": [
      "You have 4 cows, and 0 bulls.\n",
      "Your guess isn't quite right, try again.\n"
     ]
    },
    {
     "name": "stdin",
     "output_type": "stream",
     "text": [
      "Give me your best guess! 1025\n"
     ]
    },
    {
     "name": "stdout",
     "output_type": "stream",
     "text": [
      "You have 4 cows, and 0 bulls.\n",
      "Your guess isn't quite right, try again.\n"
     ]
    },
    {
     "name": "stdin",
     "output_type": "stream",
     "text": [
      "Give me your best guess! 6483\n"
     ]
    },
    {
     "name": "stdout",
     "output_type": "stream",
     "text": [
      "You have 2 cows, and 2 bulls.\n",
      "Your guess isn't quite right, try again.\n"
     ]
    },
    {
     "name": "stdin",
     "output_type": "stream",
     "text": [
      "Give me your best guess! 6543\n"
     ]
    },
    {
     "name": "stdout",
     "output_type": "stream",
     "text": [
      "You have 1 cows, and 3 bulls.\n",
      "Your guess isn't quite right, try again.\n"
     ]
    },
    {
     "name": "stdin",
     "output_type": "stream",
     "text": [
      "Give me your best guess! 6453\n"
     ]
    },
    {
     "name": "stdout",
     "output_type": "stream",
     "text": [
      "You have 2 cows, and 2 bulls.\n",
      "Your guess isn't quite right, try again.\n"
     ]
    },
    {
     "name": "stdin",
     "output_type": "stream",
     "text": [
      "Give me your best guess! 6523\n"
     ]
    },
    {
     "name": "stdout",
     "output_type": "stream",
     "text": [
      "You have 1 cows, and 3 bulls.\n",
      "Your guess isn't quite right, try again.\n"
     ]
    },
    {
     "name": "stdin",
     "output_type": "stream",
     "text": [
      "Give me your best guess! 6503\n"
     ]
    },
    {
     "name": "stdout",
     "output_type": "stream",
     "text": [
      "You have 1 cows, and 3 bulls.\n",
      "Your guess isn't quite right, try again.\n"
     ]
    },
    {
     "name": "stdin",
     "output_type": "stream",
     "text": [
      "Give me your best guess! 6533\n"
     ]
    },
    {
     "name": "stdout",
     "output_type": "stream",
     "text": [
      "You have 1 cows, and 3 bulls.\n",
      "Your guess isn't quite right, try again.\n"
     ]
    },
    {
     "name": "stdin",
     "output_type": "stream",
     "text": [
      "Give me your best guess! 6593\n"
     ]
    },
    {
     "name": "stdout",
     "output_type": "stream",
     "text": [
      "You have 1 cows, and 3 bulls.\n",
      "Your guess isn't quite right, try again.\n"
     ]
    },
    {
     "name": "stdin",
     "output_type": "stream",
     "text": [
      "Give me your best guess! 6563\n"
     ]
    },
    {
     "name": "stdout",
     "output_type": "stream",
     "text": [
      "You have 1 cows, and 3 bulls.\n",
      "Your guess isn't quite right, try again.\n"
     ]
    },
    {
     "name": "stdin",
     "output_type": "stream",
     "text": [
      "Give me your best guess! 6513\n"
     ]
    },
    {
     "name": "stdout",
     "output_type": "stream",
     "text": [
      "You have 0 cows, and 4 bulls.\n",
      "You win the game after 14! The number was 6513\n"
     ]
    }
   ],
   "source": [
    "import random\n",
    "\n",
    "def compare_numbers(number, user_guess):\n",
    "    cowbull = [0,0] #cows, then bulls\n",
    "    for i in range(len(number)):\n",
    "        if number[i] == user_guess[i]:\n",
    "            cowbull[1]+=1\n",
    "        else:\n",
    "            cowbull[0]+=1\n",
    "    return cowbull\n",
    "\n",
    "if __name__==\"__main__\":\n",
    "    playing = True # play the game\n",
    "    number = str(random.randint(0,9999)) #random 4 digit number\n",
    "    guesses = 0\n",
    "\n",
    "    print(\"Let's play a game of Cowbull!\") #explanation\n",
    "    print(\"I will generate a number, and you have to guess the numbers one digit at a time.\")\n",
    "    print(\"For every number in the wrong place, you get a cow. For every one in the right place, you get a bull.\")\n",
    "    print(\"The game ends when you get 4 bulls!\")\n",
    "    print(\"Type exit at any prompt to exit.\")\n",
    "\n",
    "    while playing:\n",
    "        user_guess = input(\"Give me your best guess!\")\n",
    "        if user_guess == \"exit\":\n",
    "            break\n",
    "        cowbullcount = compare_numbers(number,user_guess)\n",
    "        guesses+=1\n",
    "\n",
    "        print(\"You have \"+ str(cowbullcount[0]) + \" cows, and \" + str(cowbullcount[1]) + \" bulls.\")\n",
    "\n",
    "        if cowbullcount[1]==4:\n",
    "            playing = False\n",
    "            print(\"You win the game after \" + str(guesses) + \"! The number was \"+str(number))\n",
    "            break #redundant exit\n",
    "        else:\n",
    "            print(\"Your guess isn't quite right, try again.\")"
   ]
  },
  {
   "cell_type": "code",
   "execution_count": 2,
   "metadata": {},
   "outputs": [],
   "source": [
    " cowbull = [0,0]"
   ]
  },
  {
   "cell_type": "code",
   "execution_count": 5,
   "metadata": {},
   "outputs": [],
   "source": [
    "cowbull = [1,1]"
   ]
  },
  {
   "cell_type": "code",
   "execution_count": 8,
   "metadata": {},
   "outputs": [],
   "source": [
    "cowbull[0]+= 1"
   ]
  },
  {
   "cell_type": "code",
   "execution_count": 15,
   "metadata": {},
   "outputs": [
    {
     "data": {
      "text/plain": [
       "[2, 'second']"
      ]
     },
     "execution_count": 15,
     "metadata": {},
     "output_type": "execute_result"
    }
   ],
   "source": [
    "cowbull"
   ]
  },
  {
   "cell_type": "code",
   "execution_count": 11,
   "metadata": {},
   "outputs": [],
   "source": [
    "cowbull[1]+= 10"
   ]
  },
  {
   "cell_type": "code",
   "execution_count": 14,
   "metadata": {},
   "outputs": [],
   "source": [
    "cowbull[1] = 'second'"
   ]
  },
  {
   "cell_type": "code",
   "execution_count": null,
   "metadata": {},
   "outputs": [],
   "source": []
  }
 ],
 "metadata": {
  "kernelspec": {
   "display_name": "Python 3",
   "language": "python",
   "name": "python3"
  },
  "language_info": {
   "codemirror_mode": {
    "name": "ipython",
    "version": 3
   },
   "file_extension": ".py",
   "mimetype": "text/x-python",
   "name": "python",
   "nbconvert_exporter": "python",
   "pygments_lexer": "ipython3",
   "version": "3.8.5"
  }
 },
 "nbformat": 4,
 "nbformat_minor": 4
}
