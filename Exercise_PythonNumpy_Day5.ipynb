{
 "cells": [
  {
   "cell_type": "markdown",
   "metadata": {},
   "source": [
    "## Exercise 1: NumPy: Create an array with values ranging from 12 to 38"
   ]
  },
  {
   "cell_type": "code",
   "execution_count": 2,
   "metadata": {},
   "outputs": [
    {
     "name": "stdout",
     "output_type": "stream",
     "text": [
      "[12 13 14 15 16 17 18 19 20 21 22 23 24 25 26 27 28 29 30 31 32 33 34 35\n",
      " 36 37]\n"
     ]
    }
   ],
   "source": [
    "import numpy as np\n",
    "import time\n",
    "import sys\n",
    "array_numpy = np.arange(12,38)\n",
    "print(array_numpy)"
   ]
  },
  {
   "cell_type": "markdown",
   "metadata": {},
   "source": [
    "## Exercise 2: Add a border around an existing array\n",
    "##### Hint: np.pad()"
   ]
  },
  {
   "cell_type": "code",
   "execution_count": 8,
   "metadata": {},
   "outputs": [
    {
     "name": "stdout",
     "output_type": "stream",
     "text": [
      "Actual Array \n",
      " [[1. 1.]\n",
      " [1. 1.]]\n",
      "Shape: \n",
      " (2, 2)\n",
      "Padded Array :\n",
      " [[0. 0. 0. 0.]\n",
      " [0. 1. 1. 0.]\n",
      " [0. 1. 1. 0.]\n",
      " [0. 0. 0. 0.]]\n"
     ]
    }
   ],
   "source": [
    "first_arr = np.ones((2,2)) \n",
    "#Zero_arr = np.ones((3,3))\n",
    "print(\"Actual Array \\n\",first_arr)\n",
    "#print(Zero_arr)\n",
    "shape = np.shape(first_arr)\n",
    "print(\"Shape: \\n\", shape)\n",
    "padded_array = np.pad(first_arr, (1, 1))\n",
    "#padded_array = np.zeros((3,3))\n",
    "#padded_array[:shape[1],:shape[1]] = first_arr\n",
    "print(\"Padded Array :\\n\", padded_array)"
   ]
  },
  {
   "cell_type": "code",
   "execution_count": null,
   "metadata": {},
   "outputs": [],
   "source": []
  },
  {
   "cell_type": "markdown",
   "metadata": {},
   "source": [
    "## Exercise 3: Convert a list and tuple into arrays"
   ]
  },
  {
   "cell_type": "code",
   "execution_count": 69,
   "metadata": {},
   "outputs": [
    {
     "name": "stdout",
     "output_type": "stream",
     "text": [
      "(1, 2, 3, 4, 5, 6, 7, 8)\n",
      "[1 2 3 4 5 6 7 8]\n"
     ]
    },
    {
     "data": {
      "text/plain": [
       "array([[1, 2, 3, 4],\n",
       "       [5, 6, 7, 8]])"
      ]
     },
     "execution_count": 69,
     "metadata": {},
     "output_type": "execute_result"
    }
   ],
   "source": [
    "lst = (1, 2, 3, 4 ,5, 6, 7, 8)\n",
    "print(lst)\n",
    "lstToArr = np.asarray(lst)\n",
    "print(lstToArr)\n",
    "lstToArr.reshape(2,4)"
   ]
  },
  {
   "cell_type": "markdown",
   "metadata": {},
   "source": [
    "## Also try np.asarray for the problem above! "
   ]
  },
  {
   "cell_type": "markdown",
   "metadata": {},
   "source": [
    "## Exercise 4:  Convert the values of Centigrade degrees into Fahrenheit degrees"
   ]
  },
  {
   "cell_type": "code",
   "execution_count": 10,
   "metadata": {},
   "outputs": [
    {
     "name": "stdout",
     "output_type": "stream",
     "text": [
      "[ 0.   12.   45.21 34.   99.91]\n",
      "Fahrenheit [ 0.   12.   45.21 34.   99.91]\n",
      "Centigrade [-17.77777778 -11.11111111   7.33888889   1.11111111  37.72777778]\n"
     ]
    }
   ],
   "source": [
    "Fahren = np.array(([0,12,45.21,34,99.91]))\n",
    "print(Fahren)\n",
    "type(Fahren)\n",
    "print(\"Fahrenheit\", Fahren)\n",
    "# using formulae\n",
    "Centigrade = (5/9 * (Fahren -32))\n",
    "  \n",
    "# printing results\n",
    "print(f\"Centigrade {Centigrade}\")"
   ]
  },
  {
   "cell_type": "markdown",
   "metadata": {},
   "source": [
    "## Exercise 5: Write a NumPy program to find the number of elements of an array, length of one array element in bytes and total bytes consumed by the elements. "
   ]
  },
  {
   "cell_type": "code",
   "execution_count": 12,
   "metadata": {},
   "outputs": [
    {
     "name": "stdout",
     "output_type": "stream",
     "text": [
      "[0 1 2]\n",
      "Size of the array: 3\n",
      "Length of one array element in bytes : 8\n",
      "Length of one array element in bytes : 8\n",
      "Length of one array element in bytes : 8\n",
      "24\n"
     ]
    },
    {
     "data": {
      "text/plain": [
       "'Size of the array:  3\\nLength of one array element in bytes:  8\\nTotal bytes consumed by the elements of the array:  24'"
      ]
     },
     "execution_count": 12,
     "metadata": {},
     "output_type": "execute_result"
    }
   ],
   "source": [
    "eleArray =  np.arange(3)\n",
    "print(eleArray)\n",
    "arrSize = len(eleArray)\n",
    "print(\"Size of the array:\" ,arrSize )\n",
    "\n",
    "for oneArr in eleArray:\n",
    "    print(\"Length of one array element in bytes :\",oneArr.itemsize)\n",
    "''' OR. print( arry.itemsize)'''    \n",
    "print (eleArray.nbytes)\n",
    "\n",
    "'''Size of the array:  3\n",
    "Length of one array element in bytes:  8\n",
    "Total bytes consumed by the elements of the array:  24'''"
   ]
  },
  {
   "cell_type": "markdown",
   "metadata": {},
   "source": [
    "## Exercise 6: Get the unique elements of an array"
   ]
  },
  {
   "cell_type": "code",
   "execution_count": 132,
   "metadata": {},
   "outputs": [
    {
     "name": "stdout",
     "output_type": "stream",
     "text": [
      "OriginalArr:  [10 10 20 20 30 30]\n",
      "uniqueArr:  [10 20 30]\n"
     ]
    }
   ],
   "source": [
    "OriginalArr = np.array([10 ,10, 20 ,20, 30, 30])\n",
    "print(\"OriginalArr: \",OriginalArr)\n",
    "uniqueArr = np.unique(OriginalArr)\n",
    "print(\"uniqueArr: \", uniqueArr)"
   ]
  },
  {
   "cell_type": "markdown",
   "metadata": {},
   "source": [
    "## Exercise 7: Change the dimension of an array\n"
   ]
  },
  {
   "cell_type": "code",
   "execution_count": 140,
   "metadata": {},
   "outputs": [
    {
     "name": "stdout",
     "output_type": "stream",
     "text": [
      "actualDim: [1 2 3 4 5 6 7 8 9]\n",
      "reshapedarr: \n",
      " [[1 2 3]\n",
      " [4 5 6]\n",
      " [7 8 9]]\n"
     ]
    }
   ],
   "source": [
    "actualDim = np.array([1, 2, 3, 4, 5, 6, 7, 8, 9])\n",
    "print(\"actualDim:\", actualDim)\n",
    "reshapedarr = actualDim.reshape(3,3)\n",
    "print(\"reshapedarr: \\n\",reshapedarr)\n"
   ]
  },
  {
   "cell_type": "markdown",
   "metadata": {},
   "source": [
    "## Exercise 8: Create a 1-D array of 30 evenly spaced elements between 2.5. and 6.5, inclusive"
   ]
  },
  {
   "cell_type": "code",
   "execution_count": 157,
   "metadata": {},
   "outputs": [
    {
     "name": "stdout",
     "output_type": "stream",
     "text": [
      "[2.5        2.63793103 2.77586207 2.9137931  3.05172414 3.18965517\n",
      " 3.32758621 3.46551724 3.60344828 3.74137931 3.87931034 4.01724138\n",
      " 4.15517241 4.29310345 4.43103448 4.56896552 4.70689655 4.84482759\n",
      " 4.98275862 5.12068966 5.25862069 5.39655172 5.53448276 5.67241379\n",
      " 5.81034483 5.94827586 6.0862069  6.22413793 6.36206897 6.5       ]\n"
     ]
    }
   ],
   "source": [
    "OneDim30 = np.linspace(2.5,6.5,30)\n",
    "print(\"30 Evenly\" ,OneDim30)"
   ]
  },
  {
   "cell_type": "markdown",
   "metadata": {},
   "source": [
    "## Exercise 9: Convert 1-D arrays as columns into a 2-D array"
   ]
  },
  {
   "cell_type": "code",
   "execution_count": 179,
   "metadata": {},
   "outputs": [
    {
     "name": "stdout",
     "output_type": "stream",
     "text": [
      "TwoDim [[10 20 30]\n",
      " [40 50 60]]\n",
      "[[10 20 30]\n",
      " [40 50 60]]\n"
     ]
    },
    {
     "data": {
      "text/plain": [
       "'Array1: [10 20 30]\\nArray2: [40 50 60]\\nConverted array\\n[[10 40]\\n [20 50]\\n [30 60]]'"
      ]
     },
     "execution_count": 179,
     "metadata": {},
     "output_type": "execute_result"
    }
   ],
   "source": [
    "oneArr1 =  np.array([10,20,30])\n",
    "Arr2 = np.array([40,50,60])\n",
    "\n",
    "TwoDim = np.array([oneArr1 , Arr2])\n",
    "print(\"TwoDim\", TwoDim)\n",
    "TwoDim.reshape(2,3)\n",
    "print(TwoDim)\n",
    "'''Array1: [10 20 30]\n",
    "Array2: [40 50 60]\n",
    "Converted array\n",
    "[[10 40]\n",
    " [20 50]\n",
    " [30 60]]'''"
   ]
  },
  {
   "cell_type": "markdown",
   "metadata": {},
   "source": [
    "## Exercise 10: Create a 5x5 matrix with row values ranging from 0 to 4"
   ]
  },
  {
   "cell_type": "code",
   "execution_count": 197,
   "metadata": {},
   "outputs": [
    {
     "name": "stdout",
     "output_type": "stream",
     "text": [
      "[[0. 0. 0. 0. 0.]\n",
      " [0. 0. 0. 0. 0.]\n",
      " [0. 0. 0. 0. 0.]\n",
      " [0. 0. 0. 0. 0.]\n",
      " [0. 0. 0. 0. 0.]]\n"
     ]
    },
    {
     "data": {
      "text/plain": [
       "'Original array:\\n[[0. 0. 0. 0. 0.]\\n [0. 0. 0. 0. 0.]\\n [0. 0. 0. 0. 0.]\\n [0. 0. 0. 0. 0.]\\n [0. 0. 0. 0. 0.]]\\nRow values ranging from 0 to 4.\\n[[0. 1. 2. 3. 4.]\\n [0. 1. 2. 3. 4.]\\n [0. 1. 2. 3. 4.]\\n [0. 1. 2. 3. 4.]\\n [0. 1. 2. 3. 4.]]'"
      ]
     },
     "execution_count": 197,
     "metadata": {},
     "output_type": "execute_result"
    }
   ],
   "source": [
    "arr0To4 = np.zeros(25)\n",
    "reshape =arr0To4.reshape(5,5)\n",
    "print(reshape)\n",
    "'''Original array:\n",
    "[[0. 0. 0. 0. 0.]\n",
    " [0. 0. 0. 0. 0.]\n",
    " [0. 0. 0. 0. 0.]\n",
    " [0. 0. 0. 0. 0.]\n",
    " [0. 0. 0. 0. 0.]]\n",
    "Row values ranging from 0 to 4.\n",
    "[[0. 1. 2. 3. 4.]\n",
    " [0. 1. 2. 3. 4.]\n",
    " [0. 1. 2. 3. 4.]\n",
    " [0. 1. 2. 3. 4.]\n",
    " [0. 1. 2. 3. 4.]]'''"
   ]
  },
  {
   "cell_type": "code",
   "execution_count": null,
   "metadata": {},
   "outputs": [],
   "source": []
  },
  {
   "cell_type": "markdown",
   "metadata": {},
   "source": [
    "## Exercise 11: Sum of all the multiples of 3 or 5 below 100"
   ]
  },
  {
   "cell_type": "code",
   "execution_count": 213,
   "metadata": {},
   "outputs": [
    {
     "name": "stdout",
     "output_type": "stream",
     "text": [
      "4947\n"
     ]
    },
    {
     "data": {
      "text/plain": [
       "'[ 3  5  6  9 10 12 15 18 20 21 24 25 27 30 33 35 36 39 40 42 45 48 50 51\\n 54 55 57 60 63 65 66 69 70 72 75 78 80 81 84 85 87 90 93 95 96 99]\\n2318'"
      ]
     },
     "execution_count": 213,
     "metadata": {},
     "output_type": "execute_result"
    }
   ],
   "source": [
    "Sumrange100 = np.arange(3,100)\n",
    "\n",
    "sum =0 \n",
    "\"\"\"for eachelemnt in Sumrange100:\n",
    "    print(sum + eachelemnt )\"\"\"\n",
    "total = np.sum(Sumrange100)\n",
    "print (total)\n",
    "'''[ 3  5  6  9 10 12 15 18 20 21 24 25 27 30 33 35 36 39 40 42 45 48 50 51\n",
    " 54 55 57 60 63 65 66 69 70 72 75 78 80 81 84 85 87 90 93 95 96 99]\n",
    "2318'''\n",
    "\n"
   ]
  },
  {
   "cell_type": "markdown",
   "metadata": {},
   "source": [
    "## Exercise 12: Combine a one and a two dimensional array together and display their elements\n",
    "##### Hint : np.nditer()"
   ]
  },
  {
   "cell_type": "code",
   "execution_count": 16,
   "metadata": {},
   "outputs": [
    {
     "name": "stdout",
     "output_type": "stream",
     "text": [
      "0\n",
      "0\n",
      "1\n",
      "1\n",
      "2\n",
      "2\n",
      "3\n",
      "3\n"
     ]
    }
   ],
   "source": [
    "x = np.arange(4)\n",
    "y = np.arange(4)\n",
    "for a, b in np.nditer([x,y]):\n",
    "    print(a)\n",
    "    print(b)"
   ]
  },
  {
   "cell_type": "code",
   "execution_count": 28,
   "metadata": {},
   "outputs": [
    {
     "name": "stdout",
     "output_type": "stream",
     "text": [
      "One Dimensional Array : \n",
      " [0 1 2 3]\n",
      "Two Dimensional Array : \n",
      " [[0 1 2 3]\n",
      " [4 5 6 7]]\n",
      "0 : 0\n",
      "1 : 1\n",
      "2 : 2\n",
      "3 : 3\n",
      "0 : 4\n",
      "1 : 5\n",
      "2 : 6\n",
      "3 : 7\n"
     ]
    }
   ],
   "source": [
    "x = np.arange(4)\n",
    "print(\"One Dimensional Array : \\n\", x)\n",
    "y = np.arange((8))\n",
    "y = y.reshape(2,4)\n",
    "print(\"Two Dimensional Array : \\n\", y)\n",
    "\n",
    "for a,b in np.nditer([x,y]):\n",
    "    print(a,\":\",b)"
   ]
  },
  {
   "cell_type": "code",
   "execution_count": 29,
   "metadata": {},
   "outputs": [
    {
     "name": "stdout",
     "output_type": "stream",
     "text": [
      "One dimensional array:\n",
      "[0 1 2 3]\n",
      "Two dimensional array:\n",
      "[[0 1 2 3]\n",
      " [4 5 6 7]]\n",
      "0:0\n",
      "1:1\n",
      "2:2\n",
      "3:3\n",
      "0:4\n",
      "1:5\n",
      "2:6\n",
      "3:7\n"
     ]
    }
   ],
   "source": []
  },
  {
   "cell_type": "markdown",
   "metadata": {},
   "source": [
    "## Exercise 13: Write a NumPy program to replace all elements of NumPy array that are greater than specified array."
   ]
  },
  {
   "cell_type": "code",
   "execution_count": 73,
   "metadata": {},
   "outputs": [
    {
     "name": "stdout",
     "output_type": "stream",
     "text": [
      "[0.42436315 0.48558583 0.32924763]\n",
      "[0.7439979  0.58220701 0.38213418]\n",
      "[0.5097581  0.34528799 0.1563123 ]\n"
     ]
    }
   ],
   "source": [
    "x = np.array([[0.42436315,0.48558583,0.32924763],[0.7439979 ,0.58220701,0.38213418],[0.5097581 , 0.34528799 ,0.1563123]])\n",
    "#x = np.array([[0.42436315,0.48558583,0.3292476],[0.7439979 ,0.58220701,0.38213418],])\n",
    "#print(x)\n",
    "for i in x:\n",
    "    print(i)\n",
    "    for j in range(0,len(i)):\n",
    "        #print(i[j])\n",
    "        if (i[j] > 0.5):\n",
    "            i[j] = 0.5\n",
    "        else:\n",
    "            i[j] = i[j] \n",
    "        #if(j[i] >= 0.5):\n",
    "            #j[i] = j[i]  \n",
    "        "
   ]
  },
  {
   "cell_type": "code",
   "execution_count": 94,
   "metadata": {},
   "outputs": [
    {
     "name": "stdout",
     "output_type": "stream",
     "text": [
      "Original array: \n",
      " [[0.42436315 0.48558583 0.32924763]\n",
      " [0.7439979  0.58220701 0.38213418]\n",
      " [0.5097581  0.34528799 0.1563123 ]]\n",
      "Replace all elements of the said array with .5 which are greater than .5 \n",
      " [[0.42436315 0.5        0.5       ]\n",
      " [0.7439979  0.5        0.38213418]\n",
      " [0.5097581  0.34528799 0.1563123 ]]\n"
     ]
    }
   ],
   "source": [
    "x = np.array([[0.42436315,0.48558583,0.32924763],[0.7439979 ,0.58220701,0.38213418],[0.5097581 , 0.34528799 ,0.1563123]])\n",
    "#x = np.array([[0.42436315,0.48558583,0.3292476],[0.7439979 ,0.58220701,0.38213418],])\n",
    "print(\"Original array: \\n\",x)\n",
    "for idx1,i in enumerate(x):\n",
    "    #print(i)\n",
    "    for idx,j in enumerate(i):\n",
    "        #print(idx,j)\n",
    "        #print(\"printing based on index :\\n\", x[idx,idx1])\n",
    "        if (j > 0.5):\n",
    "            x[idx,idx1] = 0.5 \n",
    "        #print(\"printing after the assigment :\\n\", x[idx,idx1])\n",
    "        \n",
    "\n",
    "print(\"Replace all elements of the said array with .5 which are greater than .5 \\n\",x)"
   ]
  },
  {
   "cell_type": "code",
   "execution_count": 30,
   "metadata": {},
   "outputs": [
    {
     "name": "stdout",
     "output_type": "stream",
     "text": [
      "Original array:\n",
      "[[0.42436315 0.48558583 0.32924763]\n",
      " [0.7439979  0.58220701 0.38213418]\n",
      " [0.5097581  0.34528799 0.1563123 ]]\n",
      "Replace all elements of the said array with .5 which are greater than .5\n",
      "[[0.42436315 0.48558583 0.32924763]\n",
      " [0.5        0.5        0.38213418]\n",
      " [0.5        0.34528799 0.1563123 ]]\n"
     ]
    }
   ],
   "source": []
  },
  {
   "cell_type": "markdown",
   "metadata": {},
   "source": [
    "## Exercise 14: Add a new row to an empty numpy array"
   ]
  },
  {
   "cell_type": "code",
   "execution_count": 111,
   "metadata": {},
   "outputs": [
    {
     "name": "stdout",
     "output_type": "stream",
     "text": [
      "Empty array: \n",
      " []\n",
      "After adding two new arrays: \n",
      " [[10 20 30]\n",
      " [40 50 60]]\n"
     ]
    }
   ],
   "source": [
    "A = np.array([])\n",
    "type(A)\n",
    "print(\"Empty array: \\n\",A)\n",
    "A = np.array([[10,20,30],[40, 50 ,60]])\n",
    "print(\"After adding two new arrays: \\n\",A)"
   ]
  },
  {
   "cell_type": "code",
   "execution_count": 34,
   "metadata": {},
   "outputs": [
    {
     "name": "stdout",
     "output_type": "stream",
     "text": [
      "Empty array:\n",
      "[]\n",
      "After adding two new arrays:\n",
      "[[10 20 30]\n",
      " [40 50 60]]\n"
     ]
    }
   ],
   "source": []
  },
  {
   "cell_type": "markdown",
   "metadata": {},
   "source": [
    "## Exercise 15: Write a NumPy program to join a sequence of arrays along a new axis. "
   ]
  },
  {
   "cell_type": "code",
   "execution_count": 199,
   "metadata": {},
   "outputs": [
    {
     "name": "stdout",
     "output_type": "stream",
     "text": [
      "Original arrays: \n",
      "\n",
      "[1 2 3] \n",
      "\n",
      "[2 3 4] \n",
      "\n",
      "Sequence of arrays along a new axis: \n",
      "\n",
      " [[1 2 3]\n",
      " [2 3 4]] \n",
      "\n",
      "[[1]\n",
      " [2]\n",
      " [3]] \n",
      "\n",
      "[[2]\n",
      " [3]\n",
      " [4]] \n",
      "\n",
      "Sequence of arrays along a new axis: \n",
      " [1 2 2 3 3 4]\n"
     ]
    }
   ],
   "source": [
    "A1 = np.array([1,2,3])\n",
    "A2 = np.array([2, 3 ,4])\n",
    "print(\"Original arrays: \\n\")\n",
    "print(A1,\"\\n\")\n",
    "print(A2,\"\\n\")\n",
    "\n",
    "seqArr1 = np.stack((A1,A2),axis = 0)\n",
    "print(\"Sequence of arrays along a new axis: \\n\\n\",seqArr1, \"\\n\")\n",
    "B = np.array([[1],[2],[3]])\n",
    "C = np.array([[2],[3],[4]])\n",
    "print(B,\"\\n\")\n",
    "print(C,\"\\n\")\n",
    "seqArr = np.stack((B,C), axis=1)\n",
    "seqArrblk = np.stack([B,C],axis =2).reshape(6)\n",
    "\n",
    "print(\"Sequence of arrays along a new axis: \\n\",seqArrblk)"
   ]
  },
  {
   "cell_type": "code",
   "execution_count": 35,
   "metadata": {},
   "outputs": [
    {
     "name": "stdout",
     "output_type": "stream",
     "text": [
      "Original arrays:\n",
      "[1 2 3]\n",
      "[2 3 4]\n",
      "Sequence of arrays along a new axis:\n",
      "[[1 2 3]\n",
      " [2 3 4]]\n",
      "\n",
      "Original arrays:\n",
      "[[1]\n",
      " [2]\n",
      " [3]]\n",
      "\n",
      "[[2]\n",
      " [3]\n",
      " [4]]\n",
      "Sequence of arrays along a new axis:\n",
      "[[1]\n",
      " [2]\n",
      " [3]\n",
      " [2]\n",
      " [3]\n",
      " [4]]\n"
     ]
    }
   ],
   "source": []
  },
  {
   "cell_type": "code",
   "execution_count": null,
   "metadata": {},
   "outputs": [],
   "source": []
  }
 ],
 "metadata": {
  "kernelspec": {
   "display_name": "Python 3",
   "language": "python",
   "name": "python3"
  },
  "language_info": {
   "codemirror_mode": {
    "name": "ipython",
    "version": 3
   },
   "file_extension": ".py",
   "mimetype": "text/x-python",
   "name": "python",
   "nbconvert_exporter": "python",
   "pygments_lexer": "ipython3",
   "version": "3.8.5"
  }
 },
 "nbformat": 4,
 "nbformat_minor": 4
}
