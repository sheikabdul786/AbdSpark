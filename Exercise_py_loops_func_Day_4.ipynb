{
 "cells": [
  {
   "cell_type": "markdown",
   "metadata": {},
   "source": [
    "### The questions for the exercises are given above the cells and the expected output is given below the cell. Please type the code inserting a new cell below the question because if you run the expected output cell the output would vanish! Happy learning! "
   ]
  },
  {
   "cell_type": "markdown",
   "metadata": {},
   "source": [
    "## 1. Write a Python program to find those numbers which are divisible by 7 and multiple of 5, between 1500 and 2700 (both included). "
   ]
  },
  {
   "cell_type": "code",
   "execution_count": 26,
   "metadata": {},
   "outputs": [
    {
     "name": "stdout",
     "output_type": "stream",
     "text": [
      "1505\n",
      "1540\n",
      "1575\n",
      "1610\n",
      "1645\n",
      "1680\n",
      "1715\n",
      "1750\n",
      "1785\n",
      "1820\n",
      "1855\n",
      "1890\n",
      "1925\n",
      "1960\n",
      "1995\n",
      "2030\n",
      "2065\n",
      "2100\n",
      "2135\n",
      "2170\n",
      "2205\n",
      "2240\n",
      "2275\n",
      "2310\n",
      "2345\n",
      "2380\n",
      "2415\n",
      "2450\n",
      "2485\n",
      "2520\n",
      "2555\n",
      "2590\n",
      "2625\n",
      "2660\n",
      "2695\n"
     ]
    }
   ],
   "source": [
    "start = 1500\n",
    "end = 2700\n",
    "#i =0\n",
    "for i in range(1500,2700):\n",
    "    if (i % 7 == 0) and (i % 5 ==0):\n",
    "        print(i)    \n"
   ]
  },
  {
   "cell_type": "code",
   "execution_count": 1,
   "metadata": {},
   "outputs": [
    {
     "name": "stdout",
     "output_type": "stream",
     "text": [
      "1505,1540,1575,1610,1645,1680,1715,1750,1785,1820,1855,1890,1925,1960,1995,2030,2065,2100,2135,2170,2205,2240,2275,2310,2345,2380,2415,2450,2485,2520,2555,2590,2625,2660,2695\n"
     ]
    }
   ],
   "source": []
  },
  {
   "cell_type": "markdown",
   "metadata": {},
   "source": [
    "## 2. Write a Python program to construct the following pattern, using a nested for loop.\n"
   ]
  },
  {
   "cell_type": "code",
   "execution_count": 33,
   "metadata": {},
   "outputs": [
    {
     "name": "stdout",
     "output_type": "stream",
     "text": [
      "\n",
      "* \n",
      "* * \n",
      "* * * \n",
      "* * * * \n",
      "* * * * * \n",
      "* * * * \n",
      "* * * \n",
      "* * \n",
      "* \n"
     ]
    }
   ],
   "source": [
    "n = 5\n",
    "for i in range(0,n):\n",
    "    for j in range(0,i):\n",
    "        i = i +1\n",
    "        print(\"*\",end=\" \")\n",
    "    print(\"\")\n",
    "for i in range(n,0,-1):\n",
    "    for j in range(0,i):\n",
    "        i = i +1\n",
    "        print(\"*\",end=\" \")\n",
    "    print(\"\")\n",
    "    "
   ]
  },
  {
   "cell_type": "markdown",
   "metadata": {},
   "source": [
    "## 3. Write a Python program to count the number of even and odd numbers from a series of numbers."
   ]
  },
  {
   "cell_type": "code",
   "execution_count": 74,
   "metadata": {},
   "outputs": [
    {
     "name": "stdout",
     "output_type": "stream",
     "text": [
      "2\n",
      "4\n",
      "6\n",
      "8\n",
      "Number of even numbers: 4\n",
      "1\n",
      "3\n",
      "5\n",
      "7\n",
      "9\n",
      "Number of odd numbers: 5\n"
     ]
    }
   ],
   "source": [
    "A = [1,2,3,4,5,6,7,8,9]\n",
    "even = 0\n",
    "odd = 0\n",
    "for i in A:\n",
    "    if (i % 2 == 0):\n",
    "       C.insert(0,i)\n",
    "       even = even +1 \n",
    "       print(i)\n",
    "print(\"Number of even numbers:\" ,even )\n",
    "for i in A:\n",
    "    if (i % 2 == 1):\n",
    "       C.insert(0,i)\n",
    "       odd = odd +1 \n",
    "       print(i)\n",
    "print(\"Number of odd numbers:\" ,odd )\n",
    "\n"
   ]
  },
  {
   "cell_type": "code",
   "execution_count": 34,
   "metadata": {},
   "outputs": [],
   "source": []
  },
  {
   "cell_type": "markdown",
   "metadata": {},
   "source": [
    "## 4. Write a Python program to find numbers between 100 and 400 (both included) where each digit of a number is an even number. The numbers obtained should be printed in a comma-separated sequence."
   ]
  },
  {
   "cell_type": "code",
   "execution_count": 129,
   "metadata": {},
   "outputs": [
    {
     "name": "stdout",
     "output_type": "stream",
     "text": [
      "[200, 202, 204, 206, 208, 220, 222, 224, 226, 228, 240, 242, 244, 246, 248, 260, 262, 264, 266, 268, 280, 282, 284, 286, 288, 400]\n"
     ]
    }
   ],
   "source": [
    "A = list(range(100,401))\n",
    "lst = []\n",
    "finalLst = []\n",
    "\n",
    "for i in  A:\n",
    "    #print(i)\n",
    "    for j in str(i):\n",
    "        #print(j)\n",
    "        if (int(j) % 2 == 0):\n",
    "            lst.append(j)\n",
    "            #print(lst)\n",
    "            #print(len(lst))\n",
    "            if (len(lst) == 3):\n",
    "                lst = []\n",
    "                #print(i)\n",
    "                finalLst.append(i)\n",
    "    #print(finalLst)\n",
    "    lst = []\n",
    "print(finalLst)   \n",
    "       \n",
    "        \n",
    "    "
   ]
  },
  {
   "cell_type": "code",
   "execution_count": null,
   "metadata": {},
   "outputs": [],
   "source": []
  },
  {
   "cell_type": "code",
   "execution_count": null,
   "metadata": {},
   "outputs": [],
   "source": []
  },
  {
   "cell_type": "code",
   "execution_count": 5,
   "metadata": {},
   "outputs": [
    {
     "name": "stdout",
     "output_type": "stream",
     "text": [
      "200,202,204,206,208,220,222,224,226,228,240,242,244,246,248,260,262,264,266,268,280,282,284,286,288,400\n"
     ]
    }
   ],
   "source": []
  },
  {
   "cell_type": "markdown",
   "metadata": {},
   "source": [
    "## 5. Write a Python program to calculate a dog's age in dog's years. Go to the editor\n",
    "Note: For the first two years, a dog year is equal to 10.5 human years. After that, each dog year equals 4 human years."
   ]
  },
  {
   "cell_type": "code",
   "execution_count": 9,
   "metadata": {},
   "outputs": [
    {
     "name": "stdin",
     "output_type": "stream",
     "text": [
      "Input a dog's age in human years: 20\n"
     ]
    },
    {
     "name": "stdout",
     "output_type": "stream",
     "text": [
      "The dog's age in dog's years 93.0\n"
     ]
    }
   ],
   "source": [
    "input_1 = int(input(\"Input a dog's age in human years:\"))\n",
    "#dog_age = 0\n",
    "\n",
    "dog_age2 = 0\n",
    "\n",
    "for  i in range(1,input_1-1):\n",
    "    if ( i <= 2):\n",
    "        #print(\"entering if\",i)\n",
    "        dog_age1 = i * 10.5\n",
    "    elif ( i > 2):\n",
    "        #print(\"enering else if\",i)\n",
    "        dog_age2 = i * 4\n",
    "        #print(\"dog_age2 :\", i * 4)\n",
    "    dog_age =  dog_age1 + dog_age2\n",
    "print(\"The dog's age in dog's years\",dog_age)"
   ]
  },
  {
   "cell_type": "code",
   "execution_count": null,
   "metadata": {},
   "outputs": [],
   "source": [
    "input_1 = sadd"
   ]
  },
  {
   "cell_type": "code",
   "execution_count": null,
   "metadata": {},
   "outputs": [],
   "source": []
  },
  {
   "cell_type": "markdown",
   "metadata": {},
   "source": [
    "## 6. Write a Python function to find the Max of three numbers."
   ]
  },
  {
   "cell_type": "code",
   "execution_count": 133,
   "metadata": {},
   "outputs": [
    {
     "data": {
      "text/plain": [
       "6"
      ]
     },
     "execution_count": 133,
     "metadata": {},
     "output_type": "execute_result"
    }
   ],
   "source": [
    "A = [3,6,-5]\n",
    "max(A)"
   ]
  },
  {
   "cell_type": "code",
   "execution_count": 9,
   "metadata": {},
   "outputs": [
    {
     "name": "stdout",
     "output_type": "stream",
     "text": [
      "The Three numbers are: (3, 6, -5)\n",
      "6\n"
     ]
    }
   ],
   "source": []
  },
  {
   "cell_type": "markdown",
   "metadata": {},
   "source": [
    "## 7. Write a Python function that takes a number as a parameter and check the number is prime or not."
   ]
  },
  {
   "cell_type": "code",
   "execution_count": null,
   "metadata": {},
   "outputs": [],
   "source": []
  },
  {
   "cell_type": "code",
   "execution_count": 211,
   "metadata": {},
   "outputs": [
    {
     "name": "stdin",
     "output_type": "stream",
     "text": [
      "Enter the number : 11\n"
     ]
    },
    {
     "name": "stdout",
     "output_type": "stream",
     "text": [
      "The number is prime number : 11\n"
     ]
    }
   ],
   "source": [
    "Input = int(input(\"Enter the number :\"))\n",
    "\n",
    "#Input = 11\n",
    "Flag = True\n",
    "\n",
    "def def_prime(a):\n",
    "    if (a > 1):\n",
    "        for i in range(2,a):\n",
    "            if( a % i  == 0):\n",
    "                print(\"The number is not prime number :\" ,a)\n",
    "                #Flag = False\n",
    "                break\n",
    "            else: \n",
    "                print(\"The number is prime number :\", a)\n",
    "                break\n",
    "              \n",
    "def_prime(Input)"
   ]
  },
  {
   "cell_type": "markdown",
   "metadata": {},
   "source": [
    "# "
   ]
  },
  {
   "cell_type": "code",
   "execution_count": null,
   "metadata": {},
   "outputs": [],
   "source": []
  },
  {
   "cell_type": "markdown",
   "metadata": {},
   "source": [
    "## 8. Write a Python function that accepts a string and calculate the number of upper case letters and lower case letters. Go to the editor\n"
   ]
  },
  {
   "cell_type": "code",
   "execution_count": 187,
   "metadata": {},
   "outputs": [
    {
     "name": "stdout",
     "output_type": "stream",
     "text": [
      "Original String : Inceptz is One of The BeSt Places TO LEarn DataSciEnce\n",
      "No. of Upper case characters : 13\n",
      "No. of Lower case Characters : 32\n"
     ]
    }
   ],
   "source": [
    "str1 = \"Inceptz is One of The BeSt Places TO LEarn DataSciEnce\"\n",
    "lowerCnt = 0\n",
    "upperCnt = 0\n",
    "\n",
    "for i in str1:\n",
    "    if(i.islower()== True):\n",
    "        lowerCnt = lowerCnt + 1\n",
    "        #print(\"Lower :\",lowerCnt)\n",
    "    elif(i.isupper() == True):\n",
    "        upperCnt = upperCnt + 1\n",
    "        #print(\"Upper count is:\",upperCnt)\n",
    "print(\"Original String :\",str1)       \n",
    "print(\"No. of Upper case characters :\",upperCnt)   \n",
    "print(\"No. of Lower case Characters :\",lowerCnt)   "
   ]
  },
  {
   "cell_type": "code",
   "execution_count": null,
   "metadata": {},
   "outputs": [],
   "source": []
  },
  {
   "cell_type": "code",
   "execution_count": 13,
   "metadata": {},
   "outputs": [
    {
     "name": "stdout",
     "output_type": "stream",
     "text": [
      "Original String :  Inceptz is One of The BeSt Places TO LEarn DataSciEnce\n",
      "No. of Upper case characters :  13\n",
      "No. of Lower case Characters :  32\n"
     ]
    }
   ],
   "source": []
  },
  {
   "cell_type": "code",
   "execution_count": null,
   "metadata": {},
   "outputs": [],
   "source": []
  },
  {
   "cell_type": "markdown",
   "metadata": {},
   "source": [
    "## 9. Write a Python program to reverse a string. "
   ]
  },
  {
   "cell_type": "code",
   "execution_count": 116,
   "metadata": {},
   "outputs": [
    {
     "name": "stdout",
     "output_type": "stream",
     "text": [
      "The original string is: 1234abcd\n",
      "The reversed string: dcba4321\n"
     ]
    }
   ],
   "source": [
    "txt = \"1234abcd\"\n",
    "rev =  txt[::-1]\n",
    "print(\"The original string is:\" ,txt )\n",
    "print(\"The reversed string:\" , rev)\n"
   ]
  },
  {
   "cell_type": "code",
   "execution_count": null,
   "metadata": {},
   "outputs": [],
   "source": []
  },
  {
   "cell_type": "code",
   "execution_count": 19,
   "metadata": {},
   "outputs": [
    {
     "name": "stdout",
     "output_type": "stream",
     "text": [
      "The original string is: 1234abcd\n",
      "The reversed string: dcba4321\n"
     ]
    }
   ],
   "source": []
  },
  {
   "cell_type": "markdown",
   "metadata": {},
   "source": [
    "## 10. Write a Python program to find  the greatest common divisor (gcd) of two integers."
   ]
  },
  {
   "cell_type": "code",
   "execution_count": 118,
   "metadata": {},
   "outputs": [
    {
     "name": "stdout",
     "output_type": "stream",
     "text": [
      "The gcd of 12 and 14 is : 2\n"
     ]
    }
   ],
   "source": [
    "import math\n",
    "  \n",
    "print(\"The gcd of 12 and 14 is : \", end=\"\")\n",
    "    print(math.factorial(12, 14))"
   ]
  },
  {
   "cell_type": "code",
   "execution_count": 18,
   "metadata": {},
   "outputs": [
    {
     "name": "stdout",
     "output_type": "stream",
     "text": [
      "The two numbers are: (12, 14)\n",
      "The GCD of the numbers are: 2\n"
     ]
    }
   ],
   "source": []
  },
  {
   "cell_type": "markdown",
   "metadata": {},
   "source": [
    "## 11. Write a function to find if a string is a palindrome or not! \n",
    "eg: \n",
    "\"NAMAN\" - is a palindrome \n",
    "\"INCEPTEZ\" - is not a palindrome! "
   ]
  },
  {
   "cell_type": "code",
   "execution_count": 127,
   "metadata": {},
   "outputs": [
    {
     "name": "stdin",
     "output_type": "stream",
     "text": [
      "Enter the String to check palindrom or Not: MALAYALAM\n"
     ]
    },
    {
     "name": "stdout",
     "output_type": "stream",
     "text": [
      "Str is Palindrom: MALAYALAM  and Reverse String is MALAYALAM\n"
     ]
    }
   ],
   "source": [
    "Str = input(\"Enter the String to check palindrom or Not:\")\n",
    "\n",
    "Str1 = Str[::-1]\n",
    "\n",
    "if(Str == Str1):\n",
    "    print(\"Str is Palindrom:\",Str ,\" and Reverse String is\" ,  Str1)\n",
    "else:\n",
    "        print(\"Str is not Palindrom:\",Str, \" and Reverse String is\", Str1)\n",
    "\n",
    "    "
   ]
  },
  {
   "cell_type": "markdown",
   "metadata": {},
   "source": [
    "## 12. Write a recurssive function to find if a string is a palindrome or not! "
   ]
  },
  {
   "cell_type": "code",
   "execution_count": 178,
   "metadata": {},
   "outputs": [
    {
     "data": {
      "text/plain": [
       "True"
      ]
     },
     "execution_count": 178,
     "metadata": {},
     "output_type": "execute_result"
    }
   ],
   "source": [
    "def isPalRec(st, s, e) :\n",
    "      \n",
    "    # If there is only one character\n",
    "    if (s == e):\n",
    "        return True\n",
    "  \n",
    "    # If first and last\n",
    "    # characters do not match\n",
    "    if (st[s] != st[e]) :\n",
    "        return False\n",
    "  \n",
    "    # If there are more than \n",
    "    # two characters, check if \n",
    "    # middle substring is also \n",
    "    # palindrome or not.\n",
    "    if (s < e + 1) :\n",
    "        return isPalRec(st, s + 1, e - 1);\n",
    "\n",
    "    return True\n",
    "\n",
    "def isPalindrome(st) :\n",
    "    n = len(st)\n",
    "      \n",
    "    # An empty string is \n",
    "    # considered as palindrome\n",
    "    if (n == 0) :\n",
    "        return True\n",
    "      \n",
    "    return isPalRec(st, 0, n - 1);\n",
    "  \n",
    "isPalindrome(\"nalan\")\n"
   ]
  },
  {
   "cell_type": "code",
   "execution_count": 177,
   "metadata": {},
   "outputs": [
    {
     "name": "stdout",
     "output_type": "stream",
     "text": [
      "l\n",
      "l\n"
     ]
    }
   ],
   "source": []
  },
  {
   "cell_type": "code",
   "execution_count": null,
   "metadata": {},
   "outputs": [],
   "source": []
  }
 ],
 "metadata": {
  "kernelspec": {
   "display_name": "Python 3",
   "language": "python",
   "name": "python3"
  },
  "language_info": {
   "codemirror_mode": {
    "name": "ipython",
    "version": 3
   },
   "file_extension": ".py",
   "mimetype": "text/x-python",
   "name": "python",
   "nbconvert_exporter": "python",
   "pygments_lexer": "ipython3",
   "version": "3.8.5"
  }
 },
 "nbformat": 4,
 "nbformat_minor": 4
}
